{
 "cells": [
  {
   "cell_type": "markdown",
   "metadata": {},
   "source": [
    "Generates a random set of users, admins (subset of users), and subscription plans\\\n",
    "*Must run whole thing together, in order, to generate correctly*"
   ]
  },
  {
   "cell_type": "code",
   "execution_count": 17,
   "metadata": {},
   "outputs": [],
   "source": [
    "import requests"
   ]
  },
  {
   "cell_type": "code",
   "execution_count": 166,
   "metadata": {},
   "outputs": [],
   "source": [
    "no_records = 100\n",
    "no_admins = 20"
   ]
  },
  {
   "cell_type": "code",
   "execution_count": 18,
   "metadata": {},
   "outputs": [],
   "source": [
    "website_url = requests.get('https://en.wikipedia.org/wiki/List_of_most_popular_given_names').text"
   ]
  },
  {
   "cell_type": "code",
   "execution_count": 156,
   "metadata": {},
   "outputs": [],
   "source": [
    "from bs4 import BeautifulSoup\n",
    "soup = BeautifulSoup(website_url,'lxml')"
   ]
  },
  {
   "cell_type": "code",
   "execution_count": 20,
   "metadata": {},
   "outputs": [],
   "source": [
    "tables = soup.find_all('table', {'class:', 'wikitable'})"
   ]
  },
  {
   "cell_type": "code",
   "execution_count": 38,
   "metadata": {},
   "outputs": [],
   "source": [
    "rows = []\n",
    "for i in tables:\n",
    "    texts = i.findAll('td', text=True)\n",
    "    for entry in texts:\n",
    "        if (len(entry.findChildren()) == 0):\n",
    "            name = entry.text\n",
    "            name = name.strip('\\n')\n",
    "            if name != 'NA' and name.isalnum():\n",
    "                rows.append(name)\n",
    "            \n",
    "\n",
    "    "
   ]
  },
  {
   "cell_type": "code",
   "execution_count": 105,
   "metadata": {},
   "outputs": [],
   "source": [
    "firstnames = rows"
   ]
  },
  {
   "cell_type": "code",
   "execution_count": 44,
   "metadata": {},
   "outputs": [],
   "source": [
    "websites = []\n",
    "websites.append(requests.get('https://en.wikipedia.org/wiki/List_of_most_common_surnames_in_North_America').text)\n",
    "websites.append(requests.get('https://en.wikipedia.org/wiki/List_of_most_common_surnames_in_Asia').text)\n",
    "websites.append(requests.get('https://en.wikipedia.org/wiki/List_of_most_common_surnames_in_South_America').text)\n"
   ]
  },
  {
   "cell_type": "code",
   "execution_count": 46,
   "metadata": {},
   "outputs": [],
   "source": [
    "soups = []\n",
    "for w in websites:\n",
    "    s = BeautifulSoup(w,'lxml')\n",
    "    soups.append(s)\n",
    "    tables = s.find_all('table', {'class:', 'wikitable'})"
   ]
  },
  {
   "cell_type": "code",
   "execution_count": 75,
   "metadata": {},
   "outputs": [],
   "source": [
    "web = requests.get('https://names.mongabay.com/data/1000.html').text"
   ]
  },
  {
   "cell_type": "code",
   "execution_count": 103,
   "metadata": {},
   "outputs": [],
   "source": [
    "s = BeautifulSoup(web,'lxml')\n",
    "l = s.find(id='myTable').find_all('tr')\n",
    "lastnames = []\n",
    "for i in l:\n",
    "    lastnames.append(i.find_all('td')[0].text.lower().capitalize())\n",
    "    "
   ]
  },
  {
   "cell_type": "code",
   "execution_count": 211,
   "metadata": {},
   "outputs": [],
   "source": [
    "import random\n",
    "emaildomains = ['gmail.com', 'yahoo.com', 'hotmail.com', 'msn.com', 'live.com']\n",
    "names = []\n",
    "usernames = []\n",
    "emails = []\n",
    "passwords = []\n",
    "for i in range(0,no_records):\n",
    "    f = firstnames[random.randrange(len(firstnames))]\n",
    "    l = lastnames[random.randrange(len(lastnames))]\n",
    "    names.append(f + \" \" + l)\n",
    "    u = f[0].lower()+l.lower() + str(random.randrange(1,1000))\n",
    "    usernames.append(u)\n",
    "    emails.append(u+'@' + emaildomains[random.randrange(len(emaildomains))])\n",
    "    p = ''\n",
    "    for i in range(0, random.randrange(6,16)):\n",
    "        p += chr(ord('0')+random.randrange(72))\n",
    "    passwords.append(p)\n",
    "        \n",
    "agg = [emails, usernames, passwords, names]"
   ]
  },
  {
   "cell_type": "code",
   "execution_count": 212,
   "metadata": {},
   "outputs": [],
   "source": [
    "import pandas as pd "
   ]
  },
  {
   "cell_type": "code",
   "execution_count": 213,
   "metadata": {},
   "outputs": [],
   "source": [
    "dic = {'email':emails, 'username': usernames, 'password': passwords, 'name':names }"
   ]
  },
  {
   "cell_type": "code",
   "execution_count": 214,
   "metadata": {},
   "outputs": [],
   "source": [
    "df = pd.DataFrame(dic)"
   ]
  },
  {
   "cell_type": "code",
   "execution_count": 215,
   "metadata": {},
   "outputs": [
    {
     "data": {
      "text/html": [
       "<div>\n",
       "<style scoped>\n",
       "    .dataframe tbody tr th:only-of-type {\n",
       "        vertical-align: middle;\n",
       "    }\n",
       "\n",
       "    .dataframe tbody tr th {\n",
       "        vertical-align: top;\n",
       "    }\n",
       "\n",
       "    .dataframe thead th {\n",
       "        text-align: right;\n",
       "    }\n",
       "</style>\n",
       "<table border=\"1\" class=\"dataframe\">\n",
       "  <thead>\n",
       "    <tr style=\"text-align: right;\">\n",
       "      <th></th>\n",
       "      <th>email</th>\n",
       "      <th>username</th>\n",
       "      <th>password</th>\n",
       "      <th>name</th>\n",
       "    </tr>\n",
       "  </thead>\n",
       "  <tbody>\n",
       "    <tr>\n",
       "      <th>0</th>\n",
       "      <td>lkrueger344@gmail.com</td>\n",
       "      <td>lkrueger344</td>\n",
       "      <td>tf`clmZJNk@</td>\n",
       "      <td>Latifa Krueger</td>\n",
       "    </tr>\n",
       "    <tr>\n",
       "      <th>1</th>\n",
       "      <td>kfigueroa587@yahoo.com</td>\n",
       "      <td>kfigueroa587</td>\n",
       "      <td>qwuM7@p3</td>\n",
       "      <td>Kathem Figueroa</td>\n",
       "    </tr>\n",
       "    <tr>\n",
       "      <th>2</th>\n",
       "      <td>ahorn830@gmail.com</td>\n",
       "      <td>ahorn830</td>\n",
       "      <td>FNhhg;M`</td>\n",
       "      <td>Arata Horn</td>\n",
       "    </tr>\n",
       "    <tr>\n",
       "      <th>3</th>\n",
       "      <td>rmann418@msn.com</td>\n",
       "      <td>rmann418</td>\n",
       "      <td>bH;`@K1rbHCon</td>\n",
       "      <td>Rabina Mann</td>\n",
       "    </tr>\n",
       "    <tr>\n",
       "      <th>4</th>\n",
       "      <td>kcobb211@gmail.com</td>\n",
       "      <td>kcobb211</td>\n",
       "      <td>[cotOY:niM</td>\n",
       "      <td>Karima Cobb</td>\n",
       "    </tr>\n",
       "  </tbody>\n",
       "</table>\n",
       "</div>"
      ],
      "text/plain": [
       "                    email      username       password             name\n",
       "0   lkrueger344@gmail.com   lkrueger344    tf`clmZJNk@   Latifa Krueger\n",
       "1  kfigueroa587@yahoo.com  kfigueroa587       qwuM7@p3  Kathem Figueroa\n",
       "2      ahorn830@gmail.com      ahorn830       FNhhg;M`       Arata Horn\n",
       "3        rmann418@msn.com      rmann418  bH;`@K1rbHCon      Rabina Mann\n",
       "4      kcobb211@gmail.com      kcobb211     [cotOY:niM      Karima Cobb"
      ]
     },
     "execution_count": 215,
     "metadata": {},
     "output_type": "execute_result"
    }
   ],
   "source": [
    "df.head()"
   ]
  },
  {
   "cell_type": "code",
   "execution_count": 216,
   "metadata": {},
   "outputs": [],
   "source": [
    "df.to_csv('./generated/users.csv')"
   ]
  },
  {
   "cell_type": "code",
   "execution_count": 217,
   "metadata": {},
   "outputs": [],
   "source": [
    "admins = random.sample(emails,no_admins)\n",
    "dfadmins = pd.DataFrame(admins, columns={'email'})\n",
    "df.to_csv('./generated/admins.csv')"
   ]
  },
  {
   "cell_type": "code",
   "execution_count": 218,
   "metadata": {
    "scrolled": true
   },
   "outputs": [
    {
     "data": {
      "text/html": [
       "<div>\n",
       "<style scoped>\n",
       "    .dataframe tbody tr th:only-of-type {\n",
       "        vertical-align: middle;\n",
       "    }\n",
       "\n",
       "    .dataframe tbody tr th {\n",
       "        vertical-align: top;\n",
       "    }\n",
       "\n",
       "    .dataframe thead th {\n",
       "        text-align: right;\n",
       "    }\n",
       "</style>\n",
       "<table border=\"1\" class=\"dataframe\">\n",
       "  <thead>\n",
       "    <tr style=\"text-align: right;\">\n",
       "      <th></th>\n",
       "      <th>email</th>\n",
       "    </tr>\n",
       "  </thead>\n",
       "  <tbody>\n",
       "    <tr>\n",
       "      <th>0</th>\n",
       "      <td>fthompson773@gmail.com</td>\n",
       "    </tr>\n",
       "    <tr>\n",
       "      <th>1</th>\n",
       "      <td>wfinley673@msn.com</td>\n",
       "    </tr>\n",
       "    <tr>\n",
       "      <th>2</th>\n",
       "      <td>nhall773@gmail.com</td>\n",
       "    </tr>\n",
       "    <tr>\n",
       "      <th>3</th>\n",
       "      <td>rhowe127@msn.com</td>\n",
       "    </tr>\n",
       "    <tr>\n",
       "      <th>4</th>\n",
       "      <td>lbailey859@msn.com</td>\n",
       "    </tr>\n",
       "  </tbody>\n",
       "</table>\n",
       "</div>"
      ],
      "text/plain": [
       "                    email\n",
       "0  fthompson773@gmail.com\n",
       "1      wfinley673@msn.com\n",
       "2      nhall773@gmail.com\n",
       "3        rhowe127@msn.com\n",
       "4      lbailey859@msn.com"
      ]
     },
     "execution_count": 218,
     "metadata": {},
     "output_type": "execute_result"
    }
   ],
   "source": [
    "dfadmins.head()"
   ]
  },
  {
   "cell_type": "code",
   "execution_count": 219,
   "metadata": {},
   "outputs": [],
   "source": [
    "from random import randrange\n",
    "from datetime import timedelta\n",
    "#https://stackoverflow.com/questions/553303/generate-a-random-date-between-two-other-dates\n",
    "\n",
    "def random_date(start, end):\n",
    "    delta = end - start\n",
    "    int_delta = (delta.days * 24 * 60 * 60)\n",
    "    random_second = randrange(int_delta)\n",
    "    return start + timedelta(seconds=random_second)"
   ]
  },
  {
   "cell_type": "code",
   "execution_count": 220,
   "metadata": {},
   "outputs": [],
   "source": [
    "import datetime\n",
    "subtypes = []\n",
    "startdates = []\n",
    "payment_methods = ['Visa','American Express', 'Mastercard', 'Interac','Paypal']\n",
    "payments = []\n",
    "for a in admins:\n",
    "    subtypes.append(random.randrange(3))\n",
    "    startdates.append(random_date(datetime.datetime(2015, 1, 1),datetime.datetime.now()))\n",
    "    payments.append(payment_methods[random.randrange(len(payment_methods))])"
   ]
  },
  {
   "cell_type": "code",
   "execution_count": 221,
   "metadata": {},
   "outputs": [],
   "source": [
    "dic2 = {'email':admins, 'stype': subtypes, 'start_date': startdates, 'payment_method':payments }"
   ]
  },
  {
   "cell_type": "code",
   "execution_count": 222,
   "metadata": {},
   "outputs": [],
   "source": [
    "dfsubs = pd.DataFrame(dic2)\n",
    "dfsubs.head(20)\n",
    "dfsubs.to_csv('./generated/subscriptions.csv')"
   ]
  },
  {
   "cell_type": "code",
   "execution_count": null,
   "metadata": {},
   "outputs": [],
   "source": []
  }
 ],
 "metadata": {
  "kernelspec": {
   "display_name": "Python 3",
   "language": "python",
   "name": "python3"
  },
  "language_info": {
   "codemirror_mode": {
    "name": "ipython",
    "version": 3
   },
   "file_extension": ".py",
   "mimetype": "text/x-python",
   "name": "python",
   "nbconvert_exporter": "python",
   "pygments_lexer": "ipython3",
   "version": "3.7.3"
  }
 },
 "nbformat": 4,
 "nbformat_minor": 2
}
