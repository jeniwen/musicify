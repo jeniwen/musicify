{
 "cells": [
  {
   "cell_type": "code",
   "execution_count": 1,
   "metadata": {},
   "outputs": [],
   "source": [
    "import pandas as pd\n",
    "import random\n",
    "import string"
   ]
  },
  {
   "cell_type": "code",
   "execution_count": 2,
   "metadata": {},
   "outputs": [],
   "source": [
    "no_podcasts = 200\n",
    "genres = ['Comedy', 'Fitness & Nutrition', 'Society & Culture', 'News & Politics', 'Management & Marketing', 'TV & Film', 'Kinds & Family', 'Music', 'Video Games', 'Self-Help']"
   ]
  },
  {
   "cell_type": "code",
   "execution_count": 3,
   "metadata": {},
   "outputs": [
    {
     "data": {
      "text/html": [
       "<div>\n",
       "<style scoped>\n",
       "    .dataframe tbody tr th:only-of-type {\n",
       "        vertical-align: middle;\n",
       "    }\n",
       "\n",
       "    .dataframe tbody tr th {\n",
       "        vertical-align: top;\n",
       "    }\n",
       "\n",
       "    .dataframe thead th {\n",
       "        text-align: right;\n",
       "    }\n",
       "</style>\n",
       "<table border=\"1\" class=\"dataframe\">\n",
       "  <thead>\n",
       "    <tr style=\"text-align: right;\">\n",
       "      <th></th>\n",
       "      <th>index</th>\n",
       "      <th>Name</th>\n",
       "      <th>Rating_Volume</th>\n",
       "      <th>Rating</th>\n",
       "      <th>Genre</th>\n",
       "      <th>Description</th>\n",
       "    </tr>\n",
       "  </thead>\n",
       "  <tbody>\n",
       "    <tr>\n",
       "      <th>0</th>\n",
       "      <td>0</td>\n",
       "      <td>Fresh Air</td>\n",
       "      <td>10188</td>\n",
       "      <td>4.46133</td>\n",
       "      <td>Arts</td>\n",
       "      <td>Fresh Air from WHYY, the Peabody Award-winning...</td>\n",
       "    </tr>\n",
       "    <tr>\n",
       "      <th>1</th>\n",
       "      <td>0</td>\n",
       "      <td>The Moth</td>\n",
       "      <td>10154</td>\n",
       "      <td>4.69982</td>\n",
       "      <td>Performing</td>\n",
       "      <td>Since its launch in 1997, The Moth has present...</td>\n",
       "    </tr>\n",
       "    <tr>\n",
       "      <th>2</th>\n",
       "      <td>0</td>\n",
       "      <td>99% Invisible</td>\n",
       "      <td>12303</td>\n",
       "      <td>4.8693</td>\n",
       "      <td>Design</td>\n",
       "      <td>Design is everywhere in our lives, perhaps mos...</td>\n",
       "    </tr>\n",
       "    <tr>\n",
       "      <th>3</th>\n",
       "      <td>0</td>\n",
       "      <td>iFanboy.com Comic Book Podcast</td>\n",
       "      <td>1335</td>\n",
       "      <td>4.79551</td>\n",
       "      <td>Visual</td>\n",
       "      <td>The iFanboy.com Comic Book Podcast is a weekly...</td>\n",
       "    </tr>\n",
       "    <tr>\n",
       "      <th>4</th>\n",
       "      <td>0</td>\n",
       "      <td>Myths and Legends</td>\n",
       "      <td>11128</td>\n",
       "      <td>4.88282</td>\n",
       "      <td>Literature</td>\n",
       "      <td>Jason Weiser tells stories from myths, legends...</td>\n",
       "    </tr>\n",
       "  </tbody>\n",
       "</table>\n",
       "</div>"
      ],
      "text/plain": [
       "   index                            Name Rating_Volume   Rating       Genre  \\\n",
       "0      0                       Fresh Air         10188  4.46133        Arts   \n",
       "1      0                        The Moth         10154  4.69982  Performing   \n",
       "2      0                   99% Invisible         12303   4.8693      Design   \n",
       "3      0  iFanboy.com Comic Book Podcast          1335  4.79551      Visual   \n",
       "4      0               Myths and Legends         11128  4.88282  Literature   \n",
       "\n",
       "                                         Description  \n",
       "0  Fresh Air from WHYY, the Peabody Award-winning...  \n",
       "1  Since its launch in 1997, The Moth has present...  \n",
       "2  Design is everywhere in our lives, perhaps mos...  \n",
       "3  The iFanboy.com Comic Book Podcast is a weekly...  \n",
       "4  Jason Weiser tells stories from myths, legends...  "
      ]
     },
     "execution_count": 3,
     "metadata": {},
     "output_type": "execute_result"
    }
   ],
   "source": [
    "df_raw = pd.read_csv('./databases/poddf.csv')\n",
    "df_raw.head()"
   ]
  },
  {
   "cell_type": "code",
   "execution_count": 4,
   "metadata": {},
   "outputs": [
    {
     "data": {
      "text/html": [
       "<div>\n",
       "<style scoped>\n",
       "    .dataframe tbody tr th:only-of-type {\n",
       "        vertical-align: middle;\n",
       "    }\n",
       "\n",
       "    .dataframe tbody tr th {\n",
       "        vertical-align: top;\n",
       "    }\n",
       "\n",
       "    .dataframe thead th {\n",
       "        text-align: right;\n",
       "    }\n",
       "</style>\n",
       "<table border=\"1\" class=\"dataframe\">\n",
       "  <thead>\n",
       "    <tr style=\"text-align: right;\">\n",
       "      <th></th>\n",
       "      <th>Name</th>\n",
       "      <th>Genre</th>\n",
       "      <th>Description</th>\n",
       "    </tr>\n",
       "  </thead>\n",
       "  <tbody>\n",
       "    <tr>\n",
       "      <th>7591</th>\n",
       "      <td>The Jasta Show</td>\n",
       "      <td>Music</td>\n",
       "      <td>Musician, former television host, and podcaste...</td>\n",
       "    </tr>\n",
       "    <tr>\n",
       "      <th>10430</th>\n",
       "      <td>Sincerely, X</td>\n",
       "      <td>Society &amp; Culture</td>\n",
       "      <td>Some stories are too sensitive, painful or pot...</td>\n",
       "    </tr>\n",
       "    <tr>\n",
       "      <th>7849</th>\n",
       "      <td>Whistlestop: Presidential History and Trivia</td>\n",
       "      <td>History</td>\n",
       "      <td>John Dickerson of Slate’s Political Gabfest re...</td>\n",
       "    </tr>\n",
       "    <tr>\n",
       "      <th>9622</th>\n",
       "      <td>Twenty Thousand Hertz</td>\n",
       "      <td>Music</td>\n",
       "      <td>The stories behind the world's most recognizab...</td>\n",
       "    </tr>\n",
       "    <tr>\n",
       "      <th>7225</th>\n",
       "      <td>God Centered Mom Podcast | Don't Mom Alone</td>\n",
       "      <td>Kinds &amp; Family</td>\n",
       "      <td>LIfe is messy. Some days (some hours) are hard...</td>\n",
       "    </tr>\n",
       "  </tbody>\n",
       "</table>\n",
       "</div>"
      ],
      "text/plain": [
       "                                               Name              Genre  \\\n",
       "7591                                 The Jasta Show              Music   \n",
       "10430                                  Sincerely, X  Society & Culture   \n",
       "7849   Whistlestop: Presidential History and Trivia            History   \n",
       "9622                          Twenty Thousand Hertz              Music   \n",
       "7225     God Centered Mom Podcast | Don't Mom Alone     Kinds & Family   \n",
       "\n",
       "                                             Description  \n",
       "7591   Musician, former television host, and podcaste...  \n",
       "10430  Some stories are too sensitive, painful or pot...  \n",
       "7849   John Dickerson of Slate’s Political Gabfest re...  \n",
       "9622   The stories behind the world's most recognizab...  \n",
       "7225   LIfe is messy. Some days (some hours) are hard...  "
      ]
     },
     "execution_count": 4,
     "metadata": {},
     "output_type": "execute_result"
    }
   ],
   "source": [
    "df_raw.drop(df_raw[df_raw['Rating_Volume']=='Not Found'].index, inplace=True)\n",
    "df_raw.sort_values(by=['Rating_Volume'],inplace=True,ascending=False)\n",
    "df_raw = df_raw[['Name', 'Genre','Description']]\n",
    "df_raw.head()"
   ]
  },
  {
   "cell_type": "code",
   "execution_count": 5,
   "metadata": {},
   "outputs": [
    {
     "data": {
      "text/plain": [
       "Genre\n",
       "Comedy                        244\n",
       "Investing                     242\n",
       "Performing                    240\n",
       "Christianity                  240\n",
       "Video Games                   240\n",
       "History                       240\n",
       "News & Politics               239\n",
       "Tech News                     239\n",
       "Alternative Health            238\n",
       "Management & Marketing        238\n",
       "Places & Travel               238\n",
       "Fitness & Nutrition           237\n",
       "TV & Film                     237\n",
       "Kinds & Family                237\n",
       "Language Courses              237\n",
       "Careers                       234\n",
       "Food                          234\n",
       "Self-Help                     234\n",
       "Outdoor                       234\n",
       "Literature                    234\n",
       "Other Games                   233\n",
       "Professional                  233\n",
       "Music                         233\n",
       "Medicine                      232\n",
       "Spirituality                  232\n",
       "Personal Journals             231\n",
       "College & High School         228\n",
       "Hobbies                       228\n",
       "Visual                        227\n",
       "Sexuality                     227\n",
       "                             ... \n",
       "Design                        209\n",
       "Social Sciences               202\n",
       "Islam                         200\n",
       "Podcasting                    190\n",
       "Amateur                       186\n",
       "Automotive                    182\n",
       "Other                         176\n",
       "Gadgets                       174\n",
       "Judaism                       164\n",
       "Fashion & Beauty              159\n",
       "Non-Profit                    140\n",
       "Buddhism                      138\n",
       "Society & Culture             118\n",
       "Educational Technology        116\n",
       "National                      115\n",
       "Aviation                      105\n",
       "Local                          84\n",
       "Sports & Recreation            77\n",
       "Science & Medicine             56\n",
       "Government & Organizations     51\n",
       "Technology                     44\n",
       "Shopping                       44\n",
       "Education                      42\n",
       "Business                       42\n",
       "Arts                           35\n",
       "Hinduism                       32\n",
       "Games & Hobbies                23\n",
       "Regional                       17\n",
       "Health                         15\n",
       "Religion & Spirituality        11\n",
       "Length: 67, dtype: int64"
      ]
     },
     "execution_count": 5,
     "metadata": {},
     "output_type": "execute_result"
    }
   ],
   "source": [
    "df_genres = df_raw.groupby(['Genre']).size()\n",
    "df_genres.sort_values(ascending=False)\n"
   ]
  },
  {
   "cell_type": "code",
   "execution_count": 6,
   "metadata": {},
   "outputs": [
    {
     "data": {
      "text/html": [
       "<div>\n",
       "<style scoped>\n",
       "    .dataframe tbody tr th:only-of-type {\n",
       "        vertical-align: middle;\n",
       "    }\n",
       "\n",
       "    .dataframe tbody tr th {\n",
       "        vertical-align: top;\n",
       "    }\n",
       "\n",
       "    .dataframe thead th {\n",
       "        text-align: right;\n",
       "    }\n",
       "</style>\n",
       "<table border=\"1\" class=\"dataframe\">\n",
       "  <thead>\n",
       "    <tr style=\"text-align: right;\">\n",
       "      <th></th>\n",
       "      <th>pod_name</th>\n",
       "      <th>category</th>\n",
       "      <th>description</th>\n",
       "    </tr>\n",
       "  </thead>\n",
       "  <tbody>\n",
       "    <tr>\n",
       "      <th>7591</th>\n",
       "      <td>The Jasta Show</td>\n",
       "      <td>Music</td>\n",
       "      <td>Musician, former television host, and podcaste...</td>\n",
       "    </tr>\n",
       "    <tr>\n",
       "      <th>10430</th>\n",
       "      <td>Sincerely, X</td>\n",
       "      <td>Society &amp; Culture</td>\n",
       "      <td>Some stories are too sensitive, painful or pot...</td>\n",
       "    </tr>\n",
       "    <tr>\n",
       "      <th>9622</th>\n",
       "      <td>Twenty Thousand Hertz</td>\n",
       "      <td>Music</td>\n",
       "      <td>The stories behind the world's most recognizab...</td>\n",
       "    </tr>\n",
       "    <tr>\n",
       "      <th>7225</th>\n",
       "      <td>God Centered Mom Podcast | Don't Mom Alone</td>\n",
       "      <td>Kinds &amp; Family</td>\n",
       "      <td>LIfe is messy. Some days (some hours) are hard...</td>\n",
       "    </tr>\n",
       "    <tr>\n",
       "      <th>4255</th>\n",
       "      <td>Fly By Nite: A Fortnite Podcast</td>\n",
       "      <td>Video Games</td>\n",
       "      <td>HandsomePhantom.com is bringing you all the la...</td>\n",
       "    </tr>\n",
       "  </tbody>\n",
       "</table>\n",
       "</div>"
      ],
      "text/plain": [
       "                                         pod_name           category  \\\n",
       "7591                               The Jasta Show              Music   \n",
       "10430                                Sincerely, X  Society & Culture   \n",
       "9622                        Twenty Thousand Hertz              Music   \n",
       "7225   God Centered Mom Podcast | Don't Mom Alone     Kinds & Family   \n",
       "4255              Fly By Nite: A Fortnite Podcast        Video Games   \n",
       "\n",
       "                                             description  \n",
       "7591   Musician, former television host, and podcaste...  \n",
       "10430  Some stories are too sensitive, painful or pot...  \n",
       "9622   The stories behind the world's most recognizab...  \n",
       "7225   LIfe is messy. Some days (some hours) are hard...  \n",
       "4255   HandsomePhantom.com is bringing you all the la...  "
      ]
     },
     "execution_count": 6,
     "metadata": {},
     "output_type": "execute_result"
    }
   ],
   "source": [
    "df_select = df_raw[df_raw['Genre'].isin(genres)]\n",
    "df_select = df_select.rename(columns={'Name':'pod_name', 'Genre': 'category', 'Description':'description'})\n",
    "df_select.head()"
   ]
  },
  {
   "cell_type": "code",
   "execution_count": 7,
   "metadata": {},
   "outputs": [
    {
     "name": "stdout",
     "output_type": "stream",
     "text": [
      "200\n"
     ]
    }
   ],
   "source": [
    "df_sample = df_select.sample(n=no_podcasts)\n",
    "print(len(df_sample.index))"
   ]
  },
  {
   "cell_type": "code",
   "execution_count": 8,
   "metadata": {},
   "outputs": [],
   "source": [
    "coverart_links = []\n",
    "letters = string.ascii_letters + string.digits\n",
    "for p in range(len(df_sample.index)):\n",
    "    link = \"http://imgur.com/\"\n",
    "    for i in range (0,20):\n",
    "        link += random.choice(letters)\n",
    "    coverart_links.append(link)"
   ]
  },
  {
   "cell_type": "code",
   "execution_count": 11,
   "metadata": {},
   "outputs": [],
   "source": [
    "df_sample['cover_image'] = coverart_links\n",
    "df_sample.head()\n",
    "df_sample = df_sample.replace(r'\\\\n',' ', regex=True) "
   ]
  },
  {
   "cell_type": "code",
   "execution_count": null,
   "metadata": {},
   "outputs": [],
   "source": [
    "df_sample.replace(to_replace=[r\"\\\\t|\\\\n|\\\\r\", \"\\t|\\n|\\r\"], value=[\"\",\"\"], regex=True, inplace=True)"
   ]
  },
  {
   "cell_type": "code",
   "execution_count": 12,
   "metadata": {},
   "outputs": [],
   "source": [
    "df_sample.to_csv('./generated/podcasts.csv')"
   ]
  },
  {
   "cell_type": "code",
   "execution_count": null,
   "metadata": {},
   "outputs": [],
   "source": []
  }
 ],
 "metadata": {
  "kernelspec": {
   "display_name": "Python 3",
   "language": "python",
   "name": "python3"
  },
  "language_info": {
   "codemirror_mode": {
    "name": "ipython",
    "version": 3
   },
   "file_extension": ".py",
   "mimetype": "text/x-python",
   "name": "python",
   "nbconvert_exporter": "python",
   "pygments_lexer": "ipython3",
   "version": "3.7.3"
  }
 },
 "nbformat": 4,
 "nbformat_minor": 2
}
