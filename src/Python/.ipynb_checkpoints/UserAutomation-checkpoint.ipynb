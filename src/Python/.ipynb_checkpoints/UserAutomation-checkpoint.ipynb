{
 "cells": [
  {
   "cell_type": "markdown",
   "metadata": {},
   "source": [
    "Generates a random set of users, admins (subset of users), and subscription plans\\\n",
    "*Must run whole thing together, in order, to generate correctly*"
   ]
  },
  {
   "cell_type": "code",
   "execution_count": 1,
   "metadata": {},
   "outputs": [],
   "source": [
    "import requests"
   ]
  },
  {
   "cell_type": "code",
   "execution_count": 2,
   "metadata": {},
   "outputs": [],
   "source": [
    "no_records = 100\n",
    "no_admins = 20"
   ]
  },
  {
   "cell_type": "code",
   "execution_count": 3,
   "metadata": {},
   "outputs": [],
   "source": [
    "website_url = requests.get('https://en.wikipedia.org/wiki/List_of_most_popular_given_names').text"
   ]
  },
  {
   "cell_type": "code",
   "execution_count": 4,
   "metadata": {},
   "outputs": [],
   "source": [
    "from bs4 import BeautifulSoup\n",
    "soup = BeautifulSoup(website_url,'lxml')"
   ]
  },
  {
   "cell_type": "code",
   "execution_count": 5,
   "metadata": {},
   "outputs": [],
   "source": [
    "tables = soup.find_all('table', {'class:', 'wikitable'})"
   ]
  },
  {
   "cell_type": "code",
   "execution_count": 6,
   "metadata": {},
   "outputs": [],
   "source": [
    "rows = []\n",
    "for i in tables:\n",
    "    texts = i.findAll('td', text=True)\n",
    "    for entry in texts:\n",
    "        if (len(entry.findChildren()) == 0):\n",
    "            name = entry.text\n",
    "            name = name.strip('\\n')\n",
    "            if name != 'NA' and name.isalnum():\n",
    "                rows.append(name)\n",
    "            \n",
    "\n",
    "    "
   ]
  },
  {
   "cell_type": "code",
   "execution_count": 7,
   "metadata": {},
   "outputs": [],
   "source": [
    "firstnames = rows"
   ]
  },
  {
   "cell_type": "code",
   "execution_count": 8,
   "metadata": {},
   "outputs": [],
   "source": [
    "websites = []\n",
    "websites.append(requests.get('https://en.wikipedia.org/wiki/List_of_most_common_surnames_in_North_America').text)\n",
    "websites.append(requests.get('https://en.wikipedia.org/wiki/List_of_most_common_surnames_in_Asia').text)\n",
    "websites.append(requests.get('https://en.wikipedia.org/wiki/List_of_most_common_surnames_in_South_America').text)\n"
   ]
  },
  {
   "cell_type": "code",
   "execution_count": 9,
   "metadata": {},
   "outputs": [],
   "source": [
    "soups = []\n",
    "for w in websites:\n",
    "    s = BeautifulSoup(w,'lxml')\n",
    "    soups.append(s)\n",
    "    tables = s.find_all('table', {'class:', 'wikitable'})"
   ]
  },
  {
   "cell_type": "code",
   "execution_count": 10,
   "metadata": {},
   "outputs": [],
   "source": [
    "web = requests.get('https://names.mongabay.com/data/1000.html').text"
   ]
  },
  {
   "cell_type": "code",
   "execution_count": 11,
   "metadata": {},
   "outputs": [],
   "source": [
    "s = BeautifulSoup(web,'lxml')\n",
    "l = s.find(id='myTable').find_all('tr')\n",
    "lastnames = []\n",
    "for i in l:\n",
    "    lastnames.append(i.find_all('td')[0].text.lower().capitalize())\n",
    "    "
   ]
  },
  {
   "cell_type": "code",
   "execution_count": 12,
   "metadata": {},
   "outputs": [],
   "source": [
    "import random\n",
    "emaildomains = ['gmail.com', 'yahoo.com', 'hotmail.com', 'msn.com', 'live.com']\n",
    "names = []\n",
    "usernames = []\n",
    "emails = []\n",
    "passwords = []\n",
    "for i in range(0,no_records):\n",
    "    f = firstnames[random.randrange(len(firstnames))]\n",
    "    l = lastnames[random.randrange(len(lastnames))]\n",
    "    names.append(f + \" \" + l)\n",
    "    u = f[0].lower()+l.lower() + str(random.randrange(1,1000))\n",
    "    usernames.append(u)\n",
    "    emails.append(u+'@' + emaildomains[random.randrange(len(emaildomains))])\n",
    "    p = ''\n",
    "    for i in range(0, random.randrange(6,16)):\n",
    "        p += chr(ord('0')+random.randrange(72))\n",
    "    passwords.append(p)\n",
    "        \n",
    "agg = [emails, usernames, passwords, names]"
   ]
  },
  {
   "cell_type": "code",
   "execution_count": 13,
   "metadata": {},
   "outputs": [],
   "source": [
    "import pandas as pd "
   ]
  },
  {
   "cell_type": "code",
   "execution_count": 14,
   "metadata": {},
   "outputs": [],
   "source": [
    "dic = {'email':emails, 'username': usernames, 'password': passwords, 'name':names }"
   ]
  },
  {
   "cell_type": "code",
   "execution_count": 15,
   "metadata": {},
   "outputs": [],
   "source": [
    "df = pd.DataFrame(dic)"
   ]
  },
  {
   "cell_type": "code",
   "execution_count": 16,
   "metadata": {},
   "outputs": [
    {
     "data": {
      "text/html": [
       "<div>\n",
       "<style scoped>\n",
       "    .dataframe tbody tr th:only-of-type {\n",
       "        vertical-align: middle;\n",
       "    }\n",
       "\n",
       "    .dataframe tbody tr th {\n",
       "        vertical-align: top;\n",
       "    }\n",
       "\n",
       "    .dataframe thead th {\n",
       "        text-align: right;\n",
       "    }\n",
       "</style>\n",
       "<table border=\"1\" class=\"dataframe\">\n",
       "  <thead>\n",
       "    <tr style=\"text-align: right;\">\n",
       "      <th></th>\n",
       "      <th>email</th>\n",
       "      <th>username</th>\n",
       "      <th>password</th>\n",
       "      <th>name</th>\n",
       "    </tr>\n",
       "  </thead>\n",
       "  <tbody>\n",
       "    <tr>\n",
       "      <th>0</th>\n",
       "      <td>nacosta267@hotmail.com</td>\n",
       "      <td>nacosta267</td>\n",
       "      <td>thElR;B</td>\n",
       "      <td>Niharika Acosta</td>\n",
       "    </tr>\n",
       "    <tr>\n",
       "      <th>1</th>\n",
       "      <td>tgibson388@yahoo.com</td>\n",
       "      <td>tgibson388</td>\n",
       "      <td>01kQ0i&gt;W</td>\n",
       "      <td>Tui Gibson</td>\n",
       "    </tr>\n",
       "    <tr>\n",
       "      <th>2</th>\n",
       "      <td>aali246@gmail.com</td>\n",
       "      <td>aali246</td>\n",
       "      <td>&gt;rAic\\\\d</td>\n",
       "      <td>Adama Ali</td>\n",
       "    </tr>\n",
       "    <tr>\n",
       "      <th>3</th>\n",
       "      <td>anelson803@hotmail.com</td>\n",
       "      <td>anelson803</td>\n",
       "      <td>^g=5EKgZK`BXL9?</td>\n",
       "      <td>Abed Nelson</td>\n",
       "    </tr>\n",
       "    <tr>\n",
       "      <th>4</th>\n",
       "      <td>bkennedy201@msn.com</td>\n",
       "      <td>bkennedy201</td>\n",
       "      <td>XqT[PG:LZv8&lt;vUL</td>\n",
       "      <td>Bolormaa Kennedy</td>\n",
       "    </tr>\n",
       "  </tbody>\n",
       "</table>\n",
       "</div>"
      ],
      "text/plain": [
       "                    email     username         password              name\n",
       "0  nacosta267@hotmail.com   nacosta267          thElR;B   Niharika Acosta\n",
       "1    tgibson388@yahoo.com   tgibson388         01kQ0i>W        Tui Gibson\n",
       "2       aali246@gmail.com      aali246         >rAic\\\\d         Adama Ali\n",
       "3  anelson803@hotmail.com   anelson803  ^g=5EKgZK`BXL9?       Abed Nelson\n",
       "4     bkennedy201@msn.com  bkennedy201  XqT[PG:LZv8<vUL  Bolormaa Kennedy"
      ]
     },
     "execution_count": 16,
     "metadata": {},
     "output_type": "execute_result"
    }
   ],
   "source": [
    "df.head()"
   ]
  },
  {
   "cell_type": "code",
   "execution_count": 17,
   "metadata": {},
   "outputs": [],
   "source": [
    "df.to_csv('./generated/users.csv')"
   ]
  },
  {
   "cell_type": "code",
   "execution_count": 18,
   "metadata": {},
   "outputs": [],
   "source": [
    "admins = random.sample(emails,no_admins)\n",
    "dfadmins = pd.DataFrame(admins, columns={'email'})\n",
    "dfadmins.to_csv('./generated/admins.csv')"
   ]
  },
  {
   "cell_type": "code",
   "execution_count": 19,
   "metadata": {
    "scrolled": true
   },
   "outputs": [
    {
     "data": {
      "text/html": [
       "<div>\n",
       "<style scoped>\n",
       "    .dataframe tbody tr th:only-of-type {\n",
       "        vertical-align: middle;\n",
       "    }\n",
       "\n",
       "    .dataframe tbody tr th {\n",
       "        vertical-align: top;\n",
       "    }\n",
       "\n",
       "    .dataframe thead th {\n",
       "        text-align: right;\n",
       "    }\n",
       "</style>\n",
       "<table border=\"1\" class=\"dataframe\">\n",
       "  <thead>\n",
       "    <tr style=\"text-align: right;\">\n",
       "      <th></th>\n",
       "      <th>email</th>\n",
       "    </tr>\n",
       "  </thead>\n",
       "  <tbody>\n",
       "    <tr>\n",
       "      <th>0</th>\n",
       "      <td>rbeltran207@yahoo.com</td>\n",
       "    </tr>\n",
       "    <tr>\n",
       "      <th>1</th>\n",
       "      <td>nrhodes557@hotmail.com</td>\n",
       "    </tr>\n",
       "    <tr>\n",
       "      <th>2</th>\n",
       "      <td>fwashington942@msn.com</td>\n",
       "    </tr>\n",
       "    <tr>\n",
       "      <th>3</th>\n",
       "      <td>svalentine501@gmail.com</td>\n",
       "    </tr>\n",
       "    <tr>\n",
       "      <th>4</th>\n",
       "      <td>smoss773@hotmail.com</td>\n",
       "    </tr>\n",
       "  </tbody>\n",
       "</table>\n",
       "</div>"
      ],
      "text/plain": [
       "                     email\n",
       "0    rbeltran207@yahoo.com\n",
       "1   nrhodes557@hotmail.com\n",
       "2   fwashington942@msn.com\n",
       "3  svalentine501@gmail.com\n",
       "4     smoss773@hotmail.com"
      ]
     },
     "execution_count": 19,
     "metadata": {},
     "output_type": "execute_result"
    }
   ],
   "source": [
    "dfadmins.head()"
   ]
  },
  {
   "cell_type": "code",
   "execution_count": 20,
   "metadata": {},
   "outputs": [],
   "source": [
    "from random import randrange\n",
    "from datetime import timedelta\n",
    "#https://stackoverflow.com/questions/553303/generate-a-random-date-between-two-other-dates\n",
    "\n",
    "def random_date(start, end):\n",
    "    delta = end - start\n",
    "    int_delta = (delta.days * 24 * 60 * 60)\n",
    "    random_second = randrange(int_delta)\n",
    "    return start + timedelta(seconds=random_second)"
   ]
  },
  {
   "cell_type": "code",
   "execution_count": 21,
   "metadata": {},
   "outputs": [],
   "source": [
    "import datetime\n",
    "subtypes = []\n",
    "startdates = []\n",
    "payment_methods = ['Visa','American Express', 'Mastercard', 'Interac','Paypal']\n",
    "payments = []\n",
    "for a in admins:\n",
    "    subtypes.append(random.randrange(3))\n",
    "    startdates.append(random_date(datetime.datetime(2015, 1, 1),datetime.datetime.now()))\n",
    "    payments.append(payment_methods[random.randrange(len(payment_methods))])"
   ]
  },
  {
   "cell_type": "code",
   "execution_count": 22,
   "metadata": {},
   "outputs": [],
   "source": [
    "dic2 = {'email':admins, 'stype': subtypes, 'start_date': startdates, 'payment_method':payments }"
   ]
  },
  {
   "cell_type": "code",
   "execution_count": 23,
   "metadata": {},
   "outputs": [],
   "source": [
    "dfsubs = pd.DataFrame(dic2)\n",
    "dfsubs.head(20)\n",
    "dfsubs.to_csv('./generated/subscriptions.csv')"
   ]
  },
  {
   "cell_type": "code",
   "execution_count": null,
   "metadata": {},
   "outputs": [],
   "source": []
  }
 ],
 "metadata": {
  "kernelspec": {
   "display_name": "Python 3",
   "language": "python",
   "name": "python3"
  },
  "language_info": {
   "codemirror_mode": {
    "name": "ipython",
    "version": 3
   },
   "file_extension": ".py",
   "mimetype": "text/x-python",
   "name": "python",
   "nbconvert_exporter": "python",
   "pygments_lexer": "ipython3",
   "version": "3.7.3"
  }
 },
 "nbformat": 4,
 "nbformat_minor": 2
}
